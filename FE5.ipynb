{
 "cells": [
  {
   "cell_type": "code",
   "execution_count": 2,
   "id": "422380e4-290b-4f99-92bf-28170cf31e0a",
   "metadata": {
    "tags": []
   },
   "outputs": [
    {
     "name": "stdout",
     "output_type": "stream",
     "text": [
      "-0.3724002529860429\n"
     ]
    }
   ],
   "source": [
    "#Q.1\n",
    "import pandas as pd\n",
    "import numpy as np\n",
    "data=pd.DataFrame({\n",
    "    'Time':[8,10,6,12,9,4],\n",
    "    'Exam_scores':[50,45,80,78,87,90]})\n",
    "pearson_corr=data['Time'].corr(data['Exam_scores'],method='pearson')\n",
    "print(pearson_corr)"
   ]
  },
  {
   "cell_type": "code",
   "execution_count": null,
   "id": "0265691b-079b-498d-be4a-5f77036ab8fc",
   "metadata": {},
   "outputs": [],
   "source": [
    "\"\"\"Interpretation:\n",
    "The output value of -0.3724 for the Pearson correlation coefficient indicates a moderate negative linear relationship between the 'Time' and 'Exam_scores' variables in the dataset.\n",
    "The negative sign (-0.3724) indicates a negative correlation, which means that as the 'Time' spent studying increases, the 'Exam_scores' tend to decrease moderately. In other words, students who spend more time studying may have slightly lower exam scores on average.\n",
    "The magnitude of -0.3724 suggests that the relationship is moderate in strength. It's not a very strong negative correlation, but it's not negligible either. This means that while there is a tendency for students who study longer to have slightly lower exam scores, the relationship is not extremely strong, and there is still a lot of variability in exam scores that is not explained by study time alone."
   ]
  },
  {
   "cell_type": "code",
   "execution_count": 4,
   "id": "eb0a08ef-9432-4518-a7cb-3827bc2e19b6",
   "metadata": {
    "tags": []
   },
   "outputs": [
    {
     "name": "stdout",
     "output_type": "stream",
     "text": [
      "0.9999999999999999\n"
     ]
    }
   ],
   "source": [
    "#Q.2\n",
    "import pandas as pd\n",
    "data=pd.DataFrame({\n",
    "    'Sleep_amount':[8,6,4,10,3],\n",
    "    'Job_satisfaction_level':[8,7,4,9,2]\n",
    "})\n",
    "spearman_corr=data['Sleep_amount'].corr(data['Job_satisfaction_level'],method='spearman')\n",
    "print(spearman_corr)"
   ]
  },
  {
   "cell_type": "code",
   "execution_count": null,
   "id": "c08ff235-00fa-4f50-9edf-f907394213ad",
   "metadata": {},
   "outputs": [],
   "source": [
    "\"\"\"Interpretation:\n",
    "A Spearman's rank correlation coefficient of 0.9999999999999999 indicates an extremely strong positive monotonic relationship between the amount of sleep individuals get each night and their overall job satisfaction level on a scale of 1 to 10.\n",
    "Specifically, it suggests that as the amount of sleep increases, job satisfaction tends to increase in a perfectly monotonic manner. In other words, individuals who report higher levels of job satisfaction also tend to report getting more sleep each night, and those who report lower job satisfaction tend to report getting less sleep."
   ]
  },
  {
   "cell_type": "code",
   "execution_count": 8,
   "id": "ff2f7c0e-212c-4a22-9868-9660d09fda47",
   "metadata": {
    "tags": []
   },
   "outputs": [
    {
     "name": "stdout",
     "output_type": "stream",
     "text": [
      "Pearson corr: -0.966303697917782\n",
      "Spearman corr: -0.9791529165815559\n"
     ]
    }
   ],
   "source": [
    "#Q.3\n",
    "import pandas as pd\n",
    "data=pd.DataFrame({\n",
    "    'exercise_hours': [4, 5, 3, 7, 6, 2, 4, 5, 6, 3, 7, 8, 2, 4, 5, 6, 3, 7, 8, 2, 4, 5, 6, 3, 7, 8, 2, 4, 5, 6, 3, 7, 8, 2, 4, 5, 6, 3, 7, 8, 2, 4, 5, 6, 3, 7, 8],\n",
    "    'bmi': [25.0, 26.5, 28.0, 23.5, 22.0, 30.5, 26.0, 24.5, 23.0, 27.5, 22.5, 21.0, 30.0, 25.5, 24.0, 23.0, 27.5, 22.5, 21.0, 30.0, 25.5, 24.0, 23.0, 27.5, 22.5, 21.0, 30.0, 25.5, 24.0, 23.0, 27.5, 22.5, 21.0, 30.0, 25.5, 24.0, 23.0, 27.5, 22.5, 21.0, 30.0, 25.5, 24.0, 23.0, 27.5, 22.5, 21.0]\n",
    "})\n",
    "# Calculate Pearson correlation coefficient\n",
    "pearson_corr=data['exercise_hours'].corr(data['bmi'],method='pearson')  \n",
    "spearman_corr=data['exercise_hours'].corr(data['bmi'],method='spearman')\n",
    "print(\"Pearson corr:\",pearson_corr)\n",
    "print(\"Spearman corr:\",spearman_corr)"
   ]
  },
  {
   "cell_type": "code",
   "execution_count": null,
   "id": "91488ef3-871c-4824-93af-7d4cb370eebd",
   "metadata": {},
   "outputs": [],
   "source": [
    "\"\"\"Interpretation:\n",
    "1.Pearson Correlation Coefficient (r):\n",
    "Pearson's correlation coefficient of approximately -0.9663 is very close to -1.0.\n",
    "A value of -1.0 indicates a perfect negative linear relationship.\n",
    "In your dataset, it suggests a nearly perfect negative linear relationship between the number of hours of exercise per week and BMI.\n",
    "In other words, as the number of hours of exercise per week increases, BMI tends to decrease linearly. This means that individuals who exercise more tend to have lower BMIs on average.\n",
    "2.Spearman's Rank Correlation (Spearman's ρ):\n",
    "Spearman's rank correlation coefficient of approximately -0.9792 is very close to -1.0.\n",
    "Like Pearson's correlation, a value of -1.0 indicates a perfect negative monotonic relationship.\n",
    "Spearman's rank correlation is particularly suitable when the relationship may not be strictly linear.\n",
    "In your dataset, it confirms a nearly perfect negative monotonic relationship between exercise hours and BMI."
   ]
  },
  {
   "cell_type": "code",
   "execution_count": 12,
   "id": "465ebe64-fe8e-4019-acfa-91de0daf3b5b",
   "metadata": {
    "tags": []
   },
   "outputs": [
    {
     "name": "stdout",
     "output_type": "stream",
     "text": [
      "0.011100750845891579\n"
     ]
    }
   ],
   "source": [
    "#Q.4\n",
    "import pandas as pd\n",
    "data=pd.DataFrame({\n",
    "'hours_watching_tv' : [2, 3, 1, 4, 2, 5, 3, 5, 3, 6, 4, 7, 4, 4, 7, 6, 3, 7, 8, 2, 4, 5, 6, 3, 7, 8, 2, 4, 5, 6, 3, 7, 8, 2, 4, 5, 6, 3, 7, 8, 2, 4, 5, 6, 3, 7, 8] , \n",
    "'physical_activity_level' : [5, 4, 6, 3, 5, 2, 4, 3, 5, 2, 4, 3, 6, 4, 2, 1, 3, 6, 4, 7, 3, 7, 8, 2, 4, 5, 6, 3, 7, 8, 2, 4, 4, 5, 3, 7, 6, 2, 4, 5, 6, 3, 7, 8, 2, 4, 5]  \n",
    "})\n",
    "pearson_corr=data['hours_watching_tv'].corr(data['physical_activity_level'],method='pearson')    \n",
    "print(pearson_corr)"
   ]
  },
  {
   "cell_type": "code",
   "execution_count": null,
   "id": "577b4fb6-e856-4399-97cd-e7e31971ebf5",
   "metadata": {},
   "outputs": [],
   "source": [
    "\"\"\"Interpretation:\n",
    "The correlation coefficient value of 0.011100 suggests a very weak positive relationship. This means that the relationship between these two variables is not strong, and there is a lot of variability in the data.\n",
    "This correlation suggests that, in your sample, there is almost no meaningful relationship between the time spent watching television and the level of physical activity."
   ]
  },
  {
   "cell_type": "code",
   "execution_count": 33,
   "id": "a94b36b9-5f9b-473f-a73b-4e6653a76d73",
   "metadata": {
    "tags": []
   },
   "outputs": [
    {
     "data": {
      "image/png": "[encoded data removed]",
      "text/plain": [
       "<Figure size 640x480 with 1 Axes>"
      ]
     },
     "metadata": {},
     "output_type": "display_data"
    }
   ],
   "source": [
    "#Q.5\n",
    "import matplotlib.pyplot as plt\n",
    "import pandas as pd\n",
    "data=pd.DataFrame({\n",
    "    'Age':[25,42,37,19,31,28],\n",
    "    'Soft drink Preference':['Coke','Pepsi','Mountain dew','Coke','Pepsi','Coke']\n",
    "})\n",
    "# Group data by soft drink preference and calculate the average age for each preference\n",
    "age_by_preference = data.groupby('Soft drink Preference')['Age'].mean().reset_index()\n",
    "plt.bar(age_by_preference['Soft drink Preference'], age_by_preference['Age'])\n",
    "plt.xlabel('Soft Drink Preference')\n",
    "plt.ylabel('Average Age')\n",
    "plt.title('Relationship Between Soft Drink Preference and Age')\n",
    "plt.show()"
   ]
  },
  {
   "cell_type": "code",
   "execution_count": null,
   "id": "bd3ecb22-2537-44ec-9e2e-b14b64c303fc",
   "metadata": {
    "tags": []
   },
   "outputs": [],
   "source": [
    "\"\"\"Interpretation:\n",
    "From the bar plot, you can observe the average ages associated with each soft drink preference category in your sample data. Here are some insights:\n",
    "On average, individuals who prefer \"Coke\" tend to be younger, with an average age of around 24 years.\n",
    "Individuals who prefer \"Pepsi\" have a higher average age, around 36.5 years.\n",
    "Those who prefer \"Mountain Dew\" have a similar average age to Pepsi, at around 37 years."
   ]
  },
  {
   "cell_type": "code",
   "execution_count": 20,
   "id": "4495c724-f252-4de3-9df8-9b00ed4cf05a",
   "metadata": {
    "tags": []
   },
   "outputs": [
    {
     "name": "stdout",
     "output_type": "stream",
     "text": [
      "0.5352197749355662\n"
     ]
    }
   ],
   "source": [
    "#Q.6\n",
    "import pandas as pd\n",
    "data=pd.DataFrame({\n",
    "'sales_calls_per_day' : [10, 12, 9, 15, 11, 13, 16, 18, 20, 8, 14, 10, 12, 9, 15, 11, 13, 16, 18, 20, 28, 21, 16, 19, 27, 39, 15, 20],\n",
    "'sales_per_week' : [25, 28, 22, 30, 27, 22, 24, 27, 30, 32, 21, 34, 37, 33, 36, 28, 25, 20, 24, 38, 39, 24, 27, 37, 42, 45, 18, 28,]\n",
    "})\n",
    "pearson_corr=data['sales_calls_per_day'].corr(data['sales_per_week'],method='pearson')    \n",
    "print(pearson_corr)"
   ]
  },
  {
   "cell_type": "code",
   "execution_count": null,
   "id": "ee34080c-64af-41c9-9ad0-555c6ce3f16e",
   "metadata": {},
   "outputs": [],
   "source": [
    "\"\"\"Interpretation:\n",
    "A positive correlation suggests that as the number of sales calls made per day increases, the number of sales made per week tends to increase as well, indicating a trend where individuals who make more sales calls per day also tend to have more sales per week.\n",
    "The value of approximately 0.5352 suggests a moderate positive relationship. This means that the relationship is noticeable and has a moderate degree of strength.\n",
    "This result implies that there is a moderate association between the number of sales calls made per day and the number of sales made per week, with sales representatives who make more calls per day tending to achieve higher weekly sales, and vice versa."
   ]
  }
 ],
 "metadata": {
  "kernelspec": {
   "display_name": "Python 3 (ipykernel)",
   "language": "python",
   "name": "python3"
  },
  "language_info": {
   "codemirror_mode": {
    "name": "ipython",
    "version": 3
   },
   "file_extension": ".py",
   "mimetype": "text/x-python",
   "name": "python",
   "nbconvert_exporter": "python",
   "pygments_lexer": "ipython3",
   "version": "3.11.3"
  }
 },
 "nbformat": 4,
 "nbformat_minor": 5
}
